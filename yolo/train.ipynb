{
 "nbformat": 4,
 "nbformat_minor": 0,
 "metadata": {
  "colab": {
   "provenance": [],
   "authorship_tag": "ABX9TyM8zCLObXocQANy6qcvDGAo",
   "include_colab_link": true
  },
  "kernelspec": {
   "name": "python3",
   "display_name": "Python 3"
  },
  "language_info": {
   "name": "python"
  }
 },
 "cells": [
  {
   "cell_type": "markdown",
   "metadata": {
    "id": "view-in-github",
    "colab_type": "text"
   },
   "source": [
    "<a href=\"https://colab.research.google.com/github/aml-2023/final-project/blob/yolo/yolo_ultralytics\" target=\"_parent\"><img src=\"https://colab.research.google.com/assets/colab-badge.svg\" alt=\"Open In Colab\"/></a>"
   ]
  },
  {
   "cell_type": "markdown",
   "source": [
    "# YOLOv8 Training\n",
    "This notebook contains code for training the YOLOv8 model. Since we had to run the training on google colab, the notebook is self contained, e.g. we explicitly install the `ultralytics` package in the notebook. "
   ],
   "metadata": {
    "collapsed": false
   }
  },
  {
   "cell_type": "markdown",
   "source": [
    "# Install\n",
    "We will install the `ultralytics` pip package which lets us easily fine tune YOLO models.\n",
    "\n",
    "https://github.com/ultralytics/ultralytics"
   ],
   "metadata": {
    "id": "X9MS1ol8uecQ"
   }
  },
  {
   "cell_type": "code",
   "execution_count": 1,
   "metadata": {
    "colab": {
     "base_uri": "https://localhost:8080/"
    },
    "id": "NNd8E3Ykl2zq",
    "outputId": "9055e2db-d09e-4ea4-b4ef-157ad504115d"
   },
   "outputs": [
    {
     "output_type": "stream",
     "name": "stdout",
     "text": [
      "\u001B[?25l     \u001B[90m━━━━━━━━━━━━━━━━━━━━━━━━━━━━━━━━━━━━━━━━\u001B[0m \u001B[32m0.0/660.1 kB\u001B[0m \u001B[31m?\u001B[0m eta \u001B[36m-:--:--\u001B[0m\r\u001B[2K     \u001B[91m━━━━━━\u001B[0m\u001B[91m╸\u001B[0m\u001B[90m━━━━━━━━━━━━━━━━━━━━━━━━━━━━━━━━━\u001B[0m \u001B[32m112.6/660.1 kB\u001B[0m \u001B[31m3.1 MB/s\u001B[0m eta \u001B[36m0:00:01\u001B[0m\r\u001B[2K     \u001B[91m━━━━━━━━━━━━━━━━━━━━━━━━━━━━━━━━━━━━━━━\u001B[0m\u001B[91m╸\u001B[0m \u001B[32m655.4/660.1 kB\u001B[0m \u001B[31m10.4 MB/s\u001B[0m eta \u001B[36m0:00:01\u001B[0m\r\u001B[2K     \u001B[90m━━━━━━━━━━━━━━━━━━━━━━━━━━━━━━━━━━━━━━━━\u001B[0m \u001B[32m660.1/660.1 kB\u001B[0m \u001B[31m9.0 MB/s\u001B[0m eta \u001B[36m0:00:00\u001B[0m\n",
      "\u001B[?25h"
     ]
    }
   ],
   "source": [
    "!pip install ultralytics -qq"
   ]
  },
  {
   "cell_type": "markdown",
   "source": [
    "# Fetch Data\n",
    "Run the `fetch_data` to get a 10% subset of the garbage data in the yolo format."
   ],
   "metadata": {
    "id": "YkEzzjnjuw04"
   }
  },
  {
   "cell_type": "code",
   "source": [
    "!wget -O fetch_data.sh https://raw.githubusercontent.com/aml-2023/final-project/main/fetch_data.sh\n",
    "!bash fetch_data.sh --type yolo --output garbage --percentage subset"
   ],
   "metadata": {
    "colab": {
     "base_uri": "https://localhost:8080/"
    },
    "id": "CrgvRC6Ymhp9",
    "outputId": "541c433b-e2ad-4f5e-d98d-b85064993911"
   },
   "execution_count": 2,
   "outputs": [
    {
     "output_type": "stream",
     "name": "stdout",
     "text": [
      "--2023-12-08 08:32:20--  https://raw.githubusercontent.com/aml-2023/final-project/main/fetch_data.sh\n",
      "Resolving raw.githubusercontent.com (raw.githubusercontent.com)... 185.199.108.133, 185.199.109.133, 185.199.110.133, ...\n",
      "Connecting to raw.githubusercontent.com (raw.githubusercontent.com)|185.199.108.133|:443... connected.\n",
      "HTTP request sent, awaiting response... 200 OK\n",
      "Length: 1222 (1.2K) [text/plain]\n",
      "Saving to: ‘fetch_data.sh’\n",
      "\n",
      "fetch_data.sh       100%[===================>]   1.19K  --.-KB/s    in 0s      \n",
      "\n",
      "2023-12-08 08:32:20 (8.22 MB/s) - ‘fetch_data.sh’ saved [1222/1222]\n",
      "\n",
      "Downloading data\n",
      "  % Total    % Received % Xferd  Average Speed   Time    Time     Time  Current\n",
      "                                 Dload  Upload   Total   Spent    Left  Speed\n",
      "100   894  100   894    0     0   1095      0 --:--:-- --:--:-- --:--:--  1095\n",
      "100  274M  100  274M    0     0  96.6M      0  0:00:02  0:00:02 --:--:--  170M\n",
      "Data downloaded and extracted into garbage\n"
     ]
    }
   ]
  },
  {
   "cell_type": "markdown",
   "source": [
    "# Training the Model\n",
    "Let's train the model! We just need to import the `YOLO` class from the `ultralytics` package, tell it which version we are using (we go for the nano model because it is fastest to train), and then train it for a number of epochs."
   ],
   "metadata": {
    "id": "jJhfwOgFvK-S"
   }
  },
  {
   "cell_type": "code",
   "source": [
    "from ultralytics import YOLO\n",
    "\n",
    "# load a pretraind model\n",
    "model = YOLO(\"yolov8n.pt\")\n",
    "\n",
    "# train the model\n",
    "model.train(data=\"/content/garbage_sub/data.yaml\", epochs=90) \n",
    "\n",
    "# evaluate model performance on the validation set\n",
    "metrics = model.val()"
   ],
   "metadata": {
    "id": "8JjXbewslRqP"
   },
   "execution_count": null,
   "outputs": []
  }
 ]
}
