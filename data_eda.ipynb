{
 "cells": [
  {
   "cell_type": "code",
   "execution_count": 3,
   "metadata": {
    "collapsed": true,
    "ExecuteTime": {
     "end_time": "2023-12-03T10:22:17.367774800Z",
     "start_time": "2023-12-03T10:22:17.345099700Z"
    }
   },
   "outputs": [],
   "source": [
    "import numpy as np\n",
    "import pandas as pd\n",
    "import matplotlib.pyplot as plt\n",
    "import json"
   ]
  },
  {
   "cell_type": "markdown",
   "source": [
    "# Download data\n",
    "First, make sure you have run the `fetch_data.sh` script to download the image data.\n",
    "\n",
    "# Load Image Data\n",
    "The image part of the annotations file contains information about the images:\n",
    "\n",
    "* the file name of the image\n",
    "* the width and height of the image"
   ],
   "metadata": {
    "collapsed": false
   }
  },
  {
   "cell_type": "code",
   "execution_count": 4,
   "outputs": [
    {
     "data": {
      "text/plain": "      license                                          file_name  height  \\\nid                                                                         \n0           1     29_jpg.rf.87953984cfe2c5acd2ba93e7f3dd074b.jpg     640   \n1           1  -long-la-rue-C3A0-astoria-queens-new-york-un-t...     640   \n2           1  93117578-679c-11e5-aa4a-40f2e96c8ad8_jpg.rf.86...     640   \n3           1  02_Bild-oben-1024x768_jpg.rf.87ed93f39fd96afa8...     640   \n4           1  e1c67e8e-9438-11e5-982d-40f2e96c8ad8_jpg.rf.87...     640   \n...       ...                                                ...     ...   \n3022        1  images129_jpg.rf.13c9753552047bac5e096d5baf013...     640   \n3023        1  81c378c8-679e-11e5-b0d3-40f2e96c8ad8_jpg.rf.11...     640   \n3024        1  basuraaa_jpeg.rf.13a18b4d98eda3d3d0ecf281ca866...     640   \n3025        1  images123_jpg.rf.102c09102686ba26e1320a5d12a51...     640   \n3026        1  B9729710325Z-1_20220121200952_0002BGNBJNTDDQ-1...     640   \n\n      width              date_captured  \nid                                      \n0       640  2022-10-23T01:17:40+00:00  \n1       640  2022-10-23T01:17:40+00:00  \n2       640  2022-10-23T01:17:40+00:00  \n3       640  2022-10-23T01:17:40+00:00  \n4       640  2022-10-23T01:17:40+00:00  \n...     ...                        ...  \n3022    640  2022-10-23T01:17:40+00:00  \n3023    640  2022-10-23T01:17:40+00:00  \n3024    640  2022-10-23T01:17:40+00:00  \n3025    640  2022-10-23T01:17:40+00:00  \n3026    640  2022-10-23T01:17:40+00:00  \n\n[3027 rows x 5 columns]",
      "text/html": "<div>\n<style scoped>\n    .dataframe tbody tr th:only-of-type {\n        vertical-align: middle;\n    }\n\n    .dataframe tbody tr th {\n        vertical-align: top;\n    }\n\n    .dataframe thead th {\n        text-align: right;\n    }\n</style>\n<table border=\"1\" class=\"dataframe\">\n  <thead>\n    <tr style=\"text-align: right;\">\n      <th></th>\n      <th>license</th>\n      <th>file_name</th>\n      <th>height</th>\n      <th>width</th>\n      <th>date_captured</th>\n    </tr>\n    <tr>\n      <th>id</th>\n      <th></th>\n      <th></th>\n      <th></th>\n      <th></th>\n      <th></th>\n    </tr>\n  </thead>\n  <tbody>\n    <tr>\n      <th>0</th>\n      <td>1</td>\n      <td>29_jpg.rf.87953984cfe2c5acd2ba93e7f3dd074b.jpg</td>\n      <td>640</td>\n      <td>640</td>\n      <td>2022-10-23T01:17:40+00:00</td>\n    </tr>\n    <tr>\n      <th>1</th>\n      <td>1</td>\n      <td>-long-la-rue-C3A0-astoria-queens-new-york-un-t...</td>\n      <td>640</td>\n      <td>640</td>\n      <td>2022-10-23T01:17:40+00:00</td>\n    </tr>\n    <tr>\n      <th>2</th>\n      <td>1</td>\n      <td>93117578-679c-11e5-aa4a-40f2e96c8ad8_jpg.rf.86...</td>\n      <td>640</td>\n      <td>640</td>\n      <td>2022-10-23T01:17:40+00:00</td>\n    </tr>\n    <tr>\n      <th>3</th>\n      <td>1</td>\n      <td>02_Bild-oben-1024x768_jpg.rf.87ed93f39fd96afa8...</td>\n      <td>640</td>\n      <td>640</td>\n      <td>2022-10-23T01:17:40+00:00</td>\n    </tr>\n    <tr>\n      <th>4</th>\n      <td>1</td>\n      <td>e1c67e8e-9438-11e5-982d-40f2e96c8ad8_jpg.rf.87...</td>\n      <td>640</td>\n      <td>640</td>\n      <td>2022-10-23T01:17:40+00:00</td>\n    </tr>\n    <tr>\n      <th>...</th>\n      <td>...</td>\n      <td>...</td>\n      <td>...</td>\n      <td>...</td>\n      <td>...</td>\n    </tr>\n    <tr>\n      <th>3022</th>\n      <td>1</td>\n      <td>images129_jpg.rf.13c9753552047bac5e096d5baf013...</td>\n      <td>640</td>\n      <td>640</td>\n      <td>2022-10-23T01:17:40+00:00</td>\n    </tr>\n    <tr>\n      <th>3023</th>\n      <td>1</td>\n      <td>81c378c8-679e-11e5-b0d3-40f2e96c8ad8_jpg.rf.11...</td>\n      <td>640</td>\n      <td>640</td>\n      <td>2022-10-23T01:17:40+00:00</td>\n    </tr>\n    <tr>\n      <th>3024</th>\n      <td>1</td>\n      <td>basuraaa_jpeg.rf.13a18b4d98eda3d3d0ecf281ca866...</td>\n      <td>640</td>\n      <td>640</td>\n      <td>2022-10-23T01:17:40+00:00</td>\n    </tr>\n    <tr>\n      <th>3025</th>\n      <td>1</td>\n      <td>images123_jpg.rf.102c09102686ba26e1320a5d12a51...</td>\n      <td>640</td>\n      <td>640</td>\n      <td>2022-10-23T01:17:40+00:00</td>\n    </tr>\n    <tr>\n      <th>3026</th>\n      <td>1</td>\n      <td>B9729710325Z-1_20220121200952_0002BGNBJNTDDQ-1...</td>\n      <td>640</td>\n      <td>640</td>\n      <td>2022-10-23T01:17:40+00:00</td>\n    </tr>\n  </tbody>\n</table>\n<p>3027 rows × 5 columns</p>\n</div>"
     },
     "execution_count": 4,
     "metadata": {},
     "output_type": "execute_result"
    }
   ],
   "source": [
    "annotations_path = \"data/train/_annotations.coco.json\"\n",
    "\n",
    "with open(annotations_path, \"r\") as f:\n",
    "    json_data = json.load(f)\n",
    "\n",
    "df_images = pd.DataFrame(json_data[\"images\"])\n",
    "df_images.set_index(\"id\", inplace=True)\n",
    "df_images"
   ],
   "metadata": {
    "collapsed": false,
    "ExecuteTime": {
     "end_time": "2023-12-03T10:22:17.603121900Z",
     "start_time": "2023-12-03T10:22:17.366764700Z"
    }
   }
  },
  {
   "cell_type": "markdown",
   "source": [
    "# Load Annotations\n",
    "The annotations part of the annotations file contains:\n",
    "\n",
    "* the image ID\n",
    "* the category ID, this is basically the class label\n",
    "* the bounding box coordinates\n",
    "* the segmentation (which is always empty because we don't have it)"
   ],
   "metadata": {
    "collapsed": false
   }
  },
  {
   "cell_type": "code",
   "execution_count": 5,
   "outputs": [
    {
     "data": {
      "text/plain": "      image_id  category_id                 bbox      area segmentation  \\\nid                                                                        \n0            0            1    [68, 1, 371, 356]  132076.0           []   \n1            1            1  [33, 171, 569, 460]  261740.0           []   \n2            2            1    [1, 81, 511, 533]  272363.0           []   \n3            5            1   [83, 56, 546, 545]  297570.0           []   \n4            6            1  [105, 90, 441, 441]  194481.0           []   \n...        ...          ...                  ...       ...          ...   \n3241      3022            1   [88, 36, 551, 568]  312968.0           []   \n3242      3023            1  [93, 217, 196, 422]   82712.0           []   \n3243      3024            1   [78, 86, 470, 470]  220900.0           []   \n3244      3025            1  [244, 47, 394, 393]  154842.0           []   \n3245      3026            1    [84, 1, 477, 452]  215604.0           []   \n\n      iscrowd  \nid             \n0           0  \n1           0  \n2           0  \n3           0  \n4           0  \n...       ...  \n3241        0  \n3242        0  \n3243        0  \n3244        0  \n3245        0  \n\n[3246 rows x 6 columns]",
      "text/html": "<div>\n<style scoped>\n    .dataframe tbody tr th:only-of-type {\n        vertical-align: middle;\n    }\n\n    .dataframe tbody tr th {\n        vertical-align: top;\n    }\n\n    .dataframe thead th {\n        text-align: right;\n    }\n</style>\n<table border=\"1\" class=\"dataframe\">\n  <thead>\n    <tr style=\"text-align: right;\">\n      <th></th>\n      <th>image_id</th>\n      <th>category_id</th>\n      <th>bbox</th>\n      <th>area</th>\n      <th>segmentation</th>\n      <th>iscrowd</th>\n    </tr>\n    <tr>\n      <th>id</th>\n      <th></th>\n      <th></th>\n      <th></th>\n      <th></th>\n      <th></th>\n      <th></th>\n    </tr>\n  </thead>\n  <tbody>\n    <tr>\n      <th>0</th>\n      <td>0</td>\n      <td>1</td>\n      <td>[68, 1, 371, 356]</td>\n      <td>132076.0</td>\n      <td>[]</td>\n      <td>0</td>\n    </tr>\n    <tr>\n      <th>1</th>\n      <td>1</td>\n      <td>1</td>\n      <td>[33, 171, 569, 460]</td>\n      <td>261740.0</td>\n      <td>[]</td>\n      <td>0</td>\n    </tr>\n    <tr>\n      <th>2</th>\n      <td>2</td>\n      <td>1</td>\n      <td>[1, 81, 511, 533]</td>\n      <td>272363.0</td>\n      <td>[]</td>\n      <td>0</td>\n    </tr>\n    <tr>\n      <th>3</th>\n      <td>5</td>\n      <td>1</td>\n      <td>[83, 56, 546, 545]</td>\n      <td>297570.0</td>\n      <td>[]</td>\n      <td>0</td>\n    </tr>\n    <tr>\n      <th>4</th>\n      <td>6</td>\n      <td>1</td>\n      <td>[105, 90, 441, 441]</td>\n      <td>194481.0</td>\n      <td>[]</td>\n      <td>0</td>\n    </tr>\n    <tr>\n      <th>...</th>\n      <td>...</td>\n      <td>...</td>\n      <td>...</td>\n      <td>...</td>\n      <td>...</td>\n      <td>...</td>\n    </tr>\n    <tr>\n      <th>3241</th>\n      <td>3022</td>\n      <td>1</td>\n      <td>[88, 36, 551, 568]</td>\n      <td>312968.0</td>\n      <td>[]</td>\n      <td>0</td>\n    </tr>\n    <tr>\n      <th>3242</th>\n      <td>3023</td>\n      <td>1</td>\n      <td>[93, 217, 196, 422]</td>\n      <td>82712.0</td>\n      <td>[]</td>\n      <td>0</td>\n    </tr>\n    <tr>\n      <th>3243</th>\n      <td>3024</td>\n      <td>1</td>\n      <td>[78, 86, 470, 470]</td>\n      <td>220900.0</td>\n      <td>[]</td>\n      <td>0</td>\n    </tr>\n    <tr>\n      <th>3244</th>\n      <td>3025</td>\n      <td>1</td>\n      <td>[244, 47, 394, 393]</td>\n      <td>154842.0</td>\n      <td>[]</td>\n      <td>0</td>\n    </tr>\n    <tr>\n      <th>3245</th>\n      <td>3026</td>\n      <td>1</td>\n      <td>[84, 1, 477, 452]</td>\n      <td>215604.0</td>\n      <td>[]</td>\n      <td>0</td>\n    </tr>\n  </tbody>\n</table>\n<p>3246 rows × 6 columns</p>\n</div>"
     },
     "execution_count": 5,
     "metadata": {},
     "output_type": "execute_result"
    }
   ],
   "source": [
    "df_annotations = pd.DataFrame(json_data[\"annotations\"])\n",
    "df_annotations.set_index(\"id\", inplace=True)\n",
    "df_annotations"
   ],
   "metadata": {
    "collapsed": false,
    "ExecuteTime": {
     "end_time": "2023-12-03T10:22:17.666372600Z",
     "start_time": "2023-12-03T10:22:17.549125Z"
    }
   }
  }
 ],
 "metadata": {
  "kernelspec": {
   "display_name": "Python 3",
   "language": "python",
   "name": "python3"
  },
  "language_info": {
   "codemirror_mode": {
    "name": "ipython",
    "version": 2
   },
   "file_extension": ".py",
   "mimetype": "text/x-python",
   "name": "python",
   "nbconvert_exporter": "python",
   "pygments_lexer": "ipython2",
   "version": "2.7.6"
  }
 },
 "nbformat": 4,
 "nbformat_minor": 0
}
