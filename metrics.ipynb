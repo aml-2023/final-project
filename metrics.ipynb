{
 "cells": [
  {
   "cell_type": "raw",
   "source": [],
   "metadata": {
    "collapsed": false
   }
  },
  {
   "cell_type": "markdown",
   "source": [
    "# Metrics\n",
    "In this notebook we will calculate and plot the metrics coming from the YOLO training runs.\n",
    "\n",
    "# Load Data\n",
    "As a first step, let's load the data from the YOLO runs."
   ],
   "metadata": {
    "collapsed": false
   }
  },
  {
   "cell_type": "code",
   "execution_count": 40,
   "outputs": [],
   "source": [
    "import pandas as pd\n",
    "import matplotlib.pyplot as plt\n",
    "\n",
    "run_results = pd.read_csv(\"data/yolo_runs_epoch_90/runs/detect/train/results.csv\")"
   ],
   "metadata": {
    "collapsed": false,
    "ExecuteTime": {
     "end_time": "2023-12-11T17:15:27.704549100Z",
     "start_time": "2023-12-11T17:15:27.608145900Z"
    }
   }
  },
  {
   "cell_type": "markdown",
   "source": [
    "# Extract Train and Validation Results\n",
    "Then, we extract the training and validation columns from the dataframe."
   ],
   "metadata": {
    "collapsed": false
   }
  },
  {
   "cell_type": "code",
   "execution_count": 41,
   "outputs": [],
   "source": [
    "train_columns = list(filter(lambda col_name: \"train\" in col_name, run_results.columns))\n",
    "train_results = run_results[train_columns]\n",
    "\n",
    "val_columns = list(filter(lambda col_name: \"val\" in col_name, run_results.columns))\n",
    "val_results = run_results[val_columns]"
   ],
   "metadata": {
    "collapsed": false,
    "ExecuteTime": {
     "end_time": "2023-12-11T17:15:27.717840500Z",
     "start_time": "2023-12-11T17:15:27.636715800Z"
    }
   }
  },
  {
   "cell_type": "markdown",
   "source": [
    "Create the output directory if it doesn't already exist."
   ],
   "metadata": {
    "collapsed": false
   }
  },
  {
   "cell_type": "code",
   "execution_count": 42,
   "outputs": [],
   "source": [
    "from pathlib import Path\n",
    "\n",
    "Path(\"metrics_plots\").mkdir(exist_ok=True, parents=True)"
   ],
   "metadata": {
    "collapsed": false,
    "ExecuteTime": {
     "end_time": "2023-12-11T17:15:27.718842700Z",
     "start_time": "2023-12-11T17:15:27.651856300Z"
    }
   }
  },
  {
   "cell_type": "markdown",
   "source": [
    "# Plot\n",
    "Create a function to plot the loss and save it if requested. We always plot the training and validation loss values for a specific type of loss together, e.g. box loss."
   ],
   "metadata": {
    "collapsed": false
   }
  },
  {
   "cell_type": "code",
   "execution_count": 43,
   "outputs": [],
   "source": [
    "import os\n",
    "\n",
    "def plot_loss(train, val, name, save=False, save_dir=None, save_format=\"svg\"):\n",
    "    \"\"\"Creates a figure, axis tuple for the train and validation losses.\n",
    "\n",
    "    To save the plot, both the save and save_dir parameters must be set. Images will be saved as svg by default.\n",
    "\n",
    "    :arg\n",
    "        train - an iterable of the training loss.\n",
    "        val - an iterable of the validation loss.\n",
    "        name - the name of the loss, e.g. box loss. This will be the title of the plot.\n",
    "        save - whether to save the plot.\n",
    "        save_dir - the directory where to save the plot, must exist before calling this function.\n",
    "\n",
    "    :return\n",
    "        fig, ax - the figure and axis object of the plot.\n",
    "    \"\"\"\n",
    "    fig, ax = plt.subplots()\n",
    "\n",
    "    ax.plot(train, label=\"Train\")\n",
    "    ax.plot(val, label=\"Val\")\n",
    "    ax.set_title(name)\n",
    "    ax.set_xlabel(\"Epoch\")\n",
    "    ax.set_ylabel(\"Loss\")\n",
    "    ax.grid(True)\n",
    "    ax.legend()\n",
    "\n",
    "    if save and save_dir:\n",
    "        file_name = f\"{name.replace(' ', '_')}.{save_format}\"\n",
    "        fig.savefig(os.path.join(save_dir, file_name), format=save_format)\n",
    "    return fig, ax"
   ],
   "metadata": {
    "collapsed": false,
    "ExecuteTime": {
     "end_time": "2023-12-11T17:15:27.721839600Z",
     "start_time": "2023-12-11T17:15:27.704549100Z"
    }
   }
  },
  {
   "cell_type": "markdown",
   "source": [
    "Finally, we call the `plot_loss` method to create and save the loss plots in the specified directory."
   ],
   "metadata": {
    "collapsed": false
   }
  },
  {
   "cell_type": "code",
   "execution_count": 44,
   "outputs": [
    {
     "data": {
      "text/plain": "(<Figure size 640x480 with 1 Axes>,\n <Axes: title={'center': 'Distributional Focal Loss'}, xlabel='Epoch', ylabel='Loss'>)"
     },
     "execution_count": 44,
     "metadata": {},
     "output_type": "execute_result"
    }
   ],
   "source": [
    "plot_loss(train_results.iloc[:, 0], val_results.iloc[:, 0], \"Box Loss\", save=True, save_dir=\"metrics_plots\")\n",
    "plot_loss(train_results.iloc[:, 1], val_results.iloc[:, 1], \"Classification Loss\", save=True, save_dir=\"metrics_plots\")\n",
    "plot_loss(train_results.iloc[:, 2], val_results.iloc[:, 2], \"Distributional Focal Loss\", save=True, save_dir=\"metrics_plots\")"
   ],
   "metadata": {
    "collapsed": false,
    "ExecuteTime": {
     "end_time": "2023-12-11T17:15:28.362826900Z",
     "start_time": "2023-12-11T17:15:27.712843300Z"
    }
   }
  }
 ],
 "metadata": {
  "kernelspec": {
   "display_name": "Python 3",
   "language": "python",
   "name": "python3"
  },
  "language_info": {
   "codemirror_mode": {
    "name": "ipython",
    "version": 2
   },
   "file_extension": ".py",
   "mimetype": "text/x-python",
   "name": "python",
   "nbconvert_exporter": "python",
   "pygments_lexer": "ipython2",
   "version": "2.7.6"
  }
 },
 "nbformat": 4,
 "nbformat_minor": 0
}
