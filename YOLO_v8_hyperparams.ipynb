{
  "nbformat": 4,
  "nbformat_minor": 0,
  "metadata": {
    "colab": {
      "provenance": [],
      "gpuType": "T4"
    },
    "kernelspec": {
      "name": "python3",
      "display_name": "Python 3"
    },
    "language_info": {
      "name": "python"
    },
    "accelerator": "GPU"
  },
  "cells": [
    {
      "cell_type": "markdown",
      "source": [
        "# YOLO v8 - hyperparameter tuning\n",
        "\n",
        "Sources:\n",
        "- https://github.com/ultralytics/ultralytics\n",
        "- https://docs.ultralytics.com/guides/hyperparameter-tuning/#best_hyperparametersyaml"
      ],
      "metadata": {
        "id": "_3T7hgTQlEVP"
      }
    },
    {
      "cell_type": "markdown",
      "source": [
        "Hyperparameter tuning is used for optimizing the model's performance. It is aimed at optimizing metrics such as accuracy, precision, and recall. In the context of Ultralytics YOLO, these hyperparameters could range from learning rate to architectural details (number of layers or types of activation functions used)."
      ],
      "metadata": {
        "id": "ylawO1lZyHCg"
      }
    },
    {
      "cell_type": "code",
      "source": [
        "import numpy as np\n",
        "import pandas as pd\n",
        "import matplotlib.pyplot as plt\n",
        "import json\n",
        "\n",
        "import os\n",
        "import glob as glob\n",
        "import matplotlib.pyplot as plt\n",
        "import random\n",
        "import cv2\n",
        "import torch\n"
      ],
      "metadata": {
        "id": "2uHPOZ7LCIXX"
      },
      "execution_count": 1,
      "outputs": []
    },
    {
      "cell_type": "code",
      "source": [
        "# Check the files in current directory & delete them if neccessary\n",
        "!ls\n",
        "\n",
        "# # remove directories and files\n",
        "# !rm -rf ./garbage\n",
        "# !rm -rf ./garbage_sub\n",
        "# !rm -rf ./runs\n",
        "\n",
        "# !rm -rf ./yolov8n.pt\n",
        "\n",
        "# !rm -rf ./fetch_data.sh\n",
        "# !rm -rf ./requirements.txt"
      ],
      "metadata": {
        "colab": {
          "base_uri": "https://localhost:8080/"
        },
        "id": "JDHx2vs9kq5N",
        "outputId": "78858329-d2a9-4906-f346-a4690b081744"
      },
      "execution_count": 2,
      "outputs": [
        {
          "output_type": "stream",
          "name": "stdout",
          "text": [
            "sample_data\n"
          ]
        }
      ]
    },
    {
      "cell_type": "code",
      "source": [
        "device = torch.device('cuda' if torch.cuda.is_available() else 'cpu')"
      ],
      "metadata": {
        "id": "IH4_truCkZKj"
      },
      "execution_count": 3,
      "outputs": []
    },
    {
      "cell_type": "code",
      "source": [
        "device"
      ],
      "metadata": {
        "colab": {
          "base_uri": "https://localhost:8080/"
        },
        "id": "RJfIUpOtTRpo",
        "outputId": "42a9c73d-3763-4de7-ddae-315674fe3dbb"
      },
      "execution_count": 4,
      "outputs": [
        {
          "output_type": "execute_result",
          "data": {
            "text/plain": [
              "device(type='cuda')"
            ]
          },
          "metadata": {},
          "execution_count": 4
        }
      ]
    },
    {
      "cell_type": "code",
      "source": [
        "# Install the ultralytics package\n",
        "!pip install ultralytics -qq"
      ],
      "metadata": {
        "id": "uQKWYdRKyKb4",
        "colab": {
          "base_uri": "https://localhost:8080/"
        },
        "outputId": "58c9fdc6-0bb6-485b-e969-ec9405ad37a5"
      },
      "execution_count": 5,
      "outputs": [
        {
          "output_type": "stream",
          "name": "stdout",
          "text": [
            "\u001b[?25l     \u001b[90m━━━━━━━━━━━━━━━━━━━━━━━━━━━━━━━━━━━━━━━━\u001b[0m \u001b[32m0.0/660.5 kB\u001b[0m \u001b[31m?\u001b[0m eta \u001b[36m-:--:--\u001b[0m\r\u001b[2K     \u001b[91m━━━━━━━━━\u001b[0m\u001b[90m╺\u001b[0m\u001b[90m━━━━━━━━━━━━━━━━━━━━━━━━━━━━━━\u001b[0m \u001b[32m153.6/660.5 kB\u001b[0m \u001b[31m4.3 MB/s\u001b[0m eta \u001b[36m0:00:01\u001b[0m\r\u001b[2K     \u001b[91m━━━━━━━━━━━━━━━━━━━━━━━━━━━━━━━━\u001b[0m\u001b[91m╸\u001b[0m\u001b[90m━━━━━━━\u001b[0m \u001b[32m542.7/660.5 kB\u001b[0m \u001b[31m7.8 MB/s\u001b[0m eta \u001b[36m0:00:01\u001b[0m\r\u001b[2K     \u001b[90m━━━━━━━━━━━━━━━━━━━━━━━━━━━━━━━━━━━━━━━━\u001b[0m \u001b[32m660.5/660.5 kB\u001b[0m \u001b[31m7.5 MB/s\u001b[0m eta \u001b[36m0:00:00\u001b[0m\n",
            "\u001b[?25h"
          ]
        }
      ]
    },
    {
      "cell_type": "code",
      "source": [
        "from ultralytics import YOLO"
      ],
      "metadata": {
        "id": "D6C5EDgQUBK9"
      },
      "execution_count": 6,
      "outputs": []
    },
    {
      "cell_type": "markdown",
      "source": [
        "### Download the data\n",
        "- have to specify the format (yolo)"
      ],
      "metadata": {
        "id": "0TWqoNT2xLZD"
      }
    },
    {
      "cell_type": "code",
      "source": [
        "# DATA\n",
        "!wget -O fetch_data.sh https://raw.githubusercontent.com/aml-2023/final-project/main/fetch_data.sh\n",
        "!bash fetch_data.sh --type yolo --output garbage"
      ],
      "metadata": {
        "colab": {
          "base_uri": "https://localhost:8080/"
        },
        "id": "YpkPkodsxLry",
        "outputId": "6f1c18e2-4db0-40c4-912d-5af015c306a9"
      },
      "execution_count": 7,
      "outputs": [
        {
          "output_type": "stream",
          "name": "stdout",
          "text": [
            "--2023-12-13 20:21:05--  https://raw.githubusercontent.com/aml-2023/final-project/main/fetch_data.sh\n",
            "Resolving raw.githubusercontent.com (raw.githubusercontent.com)... 185.199.111.133, 185.199.110.133, 185.199.109.133, ...\n",
            "Connecting to raw.githubusercontent.com (raw.githubusercontent.com)|185.199.111.133|:443... connected.\n",
            "HTTP request sent, awaiting response... 200 OK\n",
            "Length: 2386 (2.3K) [text/plain]\n",
            "Saving to: ‘fetch_data.sh’\n",
            "\n",
            "\rfetch_data.sh         0%[                    ]       0  --.-KB/s               \rfetch_data.sh       100%[===================>]   2.33K  --.-KB/s    in 0s      \n",
            "\n",
            "2023-12-13 20:21:06 (29.9 MB/s) - ‘fetch_data.sh’ saved [2386/2386]\n",
            "\n",
            "yolo dataset\n",
            "Downloading full yolo data from https://universe.roboflow.com/ds/UoC75yslyT?key=V3X5ZOBCmH\n",
            "  % Total    % Received % Xferd  Average Speed   Time    Time     Time  Current\n",
            "                                 Dload  Upload   Total   Spent    Left  Speed\n",
            "100   894  100   894    0     0   2807      0 --:--:-- --:--:-- --:--:--  2802\n",
            "100  274M  100  274M    0     0  96.6M      0  0:00:02  0:00:02 --:--:--  130M\n",
            "Data downloaded and extracted into garbage\n"
          ]
        }
      ]
    },
    {
      "cell_type": "markdown",
      "source": [
        "### Subset the data"
      ],
      "metadata": {
        "id": "zXHY4UM2TbA7"
      }
    },
    {
      "cell_type": "code",
      "source": [
        "# Function that takes a subset of the data\n",
        "\n",
        "import os\n",
        "import shutil\n",
        "from glob import glob\n",
        "import numpy as np\n",
        "import pathlib\n",
        "\n",
        "def label_path_from_image_path(image_path: str, base_path):\n",
        "    \"\"\"Gets the YOLO label path from the image path.\"\"\"\n",
        "    label = image_path.split(\"/\")[-1]\n",
        "    label = label[:-3] + \"txt\"\n",
        "    label = os.path.join(base_path, label)\n",
        "    return label\n",
        "\n",
        "\n",
        "def get_image_label_path_pair(base_path: str, split_folder: str):\n",
        "    \"\"\"Gets all the image and label path pairs for a specific base path and the split folder, e.g. garbage and test.\"\"\"\n",
        "    img_path = os.path.join(base_path, split_folder, \"images\")\n",
        "    labels_path = os.path.join(base_path, split_folder, \"labels\")\n",
        "\n",
        "    pairs = []\n",
        "    for image_name in glob(f\"{img_path}/*.jpg\"):\n",
        "        label = label_path_from_image_path(image_name, labels_path)\n",
        "        pairs.append((image_name, label))\n",
        "\n",
        "    return pairs\n",
        "\n",
        "\n",
        "def subset_split_folder(yolo_root_dir: str, percentage: float, split_folder: str, out_dir: str):\n",
        "    \"\"\"Subsets a split folder (train, test, valid) and copies the subset to a new directory.\"\"\"\n",
        "    pairs = get_image_label_path_pair(yolo_root_dir, split_folder)\n",
        "    subset_len = int(len(pairs) * percentage)\n",
        "    subset_idx = np.random.randint(low=0, high=len(pairs), size=subset_len)\n",
        "\n",
        "    subset_pairs = [pairs[i] for i in subset_idx]\n",
        "\n",
        "    out_dir_img = os.path.join(out_dir, split_folder, \"images\")\n",
        "    out_dir_labels = os.path.join(out_dir, split_folder, \"labels\")\n",
        "\n",
        "    pathlib.Path(out_dir_img).mkdir(parents=True, exist_ok=True)\n",
        "    pathlib.Path(out_dir_labels).mkdir(parents=True, exist_ok=True)\n",
        "\n",
        "    for img, label in subset_pairs:\n",
        "        dest_img_path = os.path.join(out_dir_img, img.split(\"/\")[-1])\n",
        "        dest_label_path = os.path.join(out_dir_labels, label.split(\"/\")[-1])\n",
        "\n",
        "        shutil.copy(img, dest_img_path)\n",
        "        shutil.copy(label, dest_label_path)\n",
        "\n",
        "def subset_yolo_data(yolo_root_dir: str, percentage: float, out_dir: str):\n",
        "    \"\"\"Subsets the YOLO dataset by taking a percentage of the original data and moving it into a new directory.\n",
        "\n",
        "    :arg\n",
        "        yolo_root_dir (str): the root directory where the yolo data is.\n",
        "        percentage (float): the percentage of images to keep.\n",
        "        out_dir (str): the output directory, will be created if it does not exist.\n",
        "    \"\"\"\n",
        "    subset_split_folder(yolo_root_dir, percentage, \"train\", out_dir)\n",
        "    subset_split_folder(yolo_root_dir, percentage, \"test\", out_dir)\n",
        "    subset_split_folder(yolo_root_dir, percentage, \"valid\", out_dir)\n",
        "\n",
        "    other_files = [\"README.dataset.txt\", \"README.roboflow.txt\", \"data.yaml\"]\n",
        "\n",
        "    for file in other_files:\n",
        "        old_path = os.path.join(yolo_root_dir, file)\n",
        "        new_path = os.path.join(out_dir, file)\n",
        "        shutil.copy(old_path, new_path)"
      ],
      "metadata": {
        "id": "q4OCtrV1ORAi"
      },
      "execution_count": 9,
      "outputs": []
    },
    {
      "cell_type": "code",
      "source": [
        "# Subset the data\n",
        "subset_yolo_data(\"garbage\", 0.10, \"garbage_sub\")"
      ],
      "metadata": {
        "id": "o4B0hc_dxHYL"
      },
      "execution_count": 10,
      "outputs": []
    },
    {
      "cell_type": "markdown",
      "source": [
        "We use the model.tune() method for hyperparameter tuning. We have set the epochs to 25, the iterations to 10, and the optimizer to AdamW. We skip plotting, checkpointing, and validation other than on the final epoch for faster Tuning."
      ],
      "metadata": {
        "id": "XHQzCKTLiltp"
      }
    },
    {
      "cell_type": "code",
      "source": [
        "# Initialize the YOLO model\n",
        "model = YOLO('yolov8n.pt')\n",
        "\n",
        "# Tune hyperparameters on the subset\n",
        "model.tune(data=\"/content/garbage_sub/data.yaml\", epochs=25, iterations=10, optimizer='AdamW', plots=False, save=False, val=False)"
      ],
      "metadata": {
        "id": "z28RrHj3imMo",
        "colab": {
          "base_uri": "https://localhost:8080/"
        },
        "outputId": "d57d1d31-30c9-45c6-891e-cf1f4f9af95b"
      },
      "execution_count": 11,
      "outputs": [
        {
          "output_type": "stream",
          "name": "stdout",
          "text": [
            "Downloading https://github.com/ultralytics/assets/releases/download/v0.0.0/yolov8n.pt to 'yolov8n.pt'...\n"
          ]
        },
        {
          "output_type": "stream",
          "name": "stderr",
          "text": [
            "100%|██████████| 6.23M/6.23M [00:00<00:00, 116MB/s]"
          ]
        },
        {
          "output_type": "stream",
          "name": "stdout",
          "text": [
            "\u001b[34m\u001b[1mTuner: \u001b[0mInitialized Tuner instance with 'tune_dir=runs/detect/tune'\n",
            "\u001b[34m\u001b[1mTuner: \u001b[0m💡 Learn about tuning at https://docs.ultralytics.com/guides/hyperparameter-tuning\n",
            "\u001b[34m\u001b[1mTuner: \u001b[0mStarting iteration 1/10 with hyperparameters: {'lr0': 0.01, 'lrf': 0.01, 'momentum': 0.937, 'weight_decay': 0.0005, 'warmup_epochs': 3.0, 'warmup_momentum': 0.8, 'box': 7.5, 'cls': 0.5, 'dfl': 1.5, 'hsv_h': 0.015, 'hsv_s': 0.7, 'hsv_v': 0.4, 'degrees': 0.0, 'translate': 0.1, 'scale': 0.5, 'shear': 0.0, 'perspective': 0.0, 'flipud': 0.0, 'fliplr': 0.5, 'mosaic': 1.0, 'mixup': 0.0, 'copy_paste': 0.0}\n"
          ]
        },
        {
          "output_type": "stream",
          "name": "stderr",
          "text": [
            "\n"
          ]
        },
        {
          "output_type": "stream",
          "name": "stdout",
          "text": [
            "Saved runs/detect/tune/tune_scatter_plots.png\n",
            "Saved runs/detect/tune/tune_fitness.png\n",
            "\n",
            "\u001b[34m\u001b[1mTuner: \u001b[0m1/10 iterations complete ✅ (186.46s)\n",
            "\u001b[34m\u001b[1mTuner: \u001b[0mResults saved to \u001b[1mruns/detect/tune\u001b[0m\n",
            "\u001b[34m\u001b[1mTuner: \u001b[0mBest fitness=0.24564 observed at iteration 1\n",
            "\u001b[34m\u001b[1mTuner: \u001b[0mBest fitness metrics are {'metrics/precision(B)': 0.57573, 'metrics/recall(B)': 0.60714, 'metrics/mAP50(B)': 0.51891, 'metrics/mAP50-95(B)': 0.21528, 'val/box_loss': 2.30955, 'val/cls_loss': 1.80074, 'val/dfl_loss': 3.01023, 'fitness': 0.24564}\n",
            "\u001b[34m\u001b[1mTuner: \u001b[0mBest fitness model is runs/detect/train\n",
            "\u001b[34m\u001b[1mTuner: \u001b[0mBest fitness hyperparameters are printed below.\n",
            "\n",
            "Printing '\u001b[1m\u001b[30mruns/detect/tune/best_hyperparameters.yaml\u001b[0m'\n",
            "\n",
            "lr0: 0.01\n",
            "lrf: 0.01\n",
            "momentum: 0.937\n",
            "weight_decay: 0.0005\n",
            "warmup_epochs: 3.0\n",
            "warmup_momentum: 0.8\n",
            "box: 7.5\n",
            "cls: 0.5\n",
            "dfl: 1.5\n",
            "hsv_h: 0.015\n",
            "hsv_s: 0.7\n",
            "hsv_v: 0.4\n",
            "degrees: 0.0\n",
            "translate: 0.1\n",
            "scale: 0.5\n",
            "shear: 0.0\n",
            "perspective: 0.0\n",
            "flipud: 0.0\n",
            "fliplr: 0.5\n",
            "mosaic: 1.0\n",
            "mixup: 0.0\n",
            "copy_paste: 0.0\n",
            "\n",
            "\u001b[34m\u001b[1mTuner: \u001b[0mStarting iteration 2/10 with hyperparameters: {'lr0': 0.00931, 'lrf': 0.00948, 'momentum': 0.89059, 'weight_decay': 0.00041, 'warmup_epochs': 2.51887, 'warmup_momentum': 0.8, 'box': 6.33728, 'cls': 0.57023, 'dfl': 1.23717, 'hsv_h': 0.015, 'hsv_s': 0.7, 'hsv_v': 0.31447, 'degrees': 0.0, 'translate': 0.1, 'scale': 0.5, 'shear': 0.0, 'perspective': 0.0, 'flipud': 0.0, 'fliplr': 0.46287, 'mosaic': 1.0, 'mixup': 0.0, 'copy_paste': 0.0}\n",
            "Saved runs/detect/tune/tune_scatter_plots.png\n",
            "Saved runs/detect/tune/tune_fitness.png\n",
            "\n",
            "\u001b[34m\u001b[1mTuner: \u001b[0m2/10 iterations complete ✅ (360.60s)\n",
            "\u001b[34m\u001b[1mTuner: \u001b[0mResults saved to \u001b[1mruns/detect/tune\u001b[0m\n",
            "\u001b[34m\u001b[1mTuner: \u001b[0mBest fitness=0.2618 observed at iteration 2\n",
            "\u001b[34m\u001b[1mTuner: \u001b[0mBest fitness metrics are {'metrics/precision(B)': 0.54752, 'metrics/recall(B)': 0.51893, 'metrics/mAP50(B)': 0.50004, 'metrics/mAP50-95(B)': 0.23533, 'val/box_loss': 1.86798, 'val/cls_loss': 1.98427, 'val/dfl_loss': 2.3669, 'fitness': 0.2618}\n",
            "\u001b[34m\u001b[1mTuner: \u001b[0mBest fitness model is runs/detect/train2\n",
            "\u001b[34m\u001b[1mTuner: \u001b[0mBest fitness hyperparameters are printed below.\n",
            "\n",
            "Printing '\u001b[1m\u001b[30mruns/detect/tune/best_hyperparameters.yaml\u001b[0m'\n",
            "\n",
            "lr0: 0.00931\n",
            "lrf: 0.00948\n",
            "momentum: 0.89059\n",
            "weight_decay: 0.00041\n",
            "warmup_epochs: 2.51887\n",
            "warmup_momentum: 0.8\n",
            "box: 6.33728\n",
            "cls: 0.57023\n",
            "dfl: 1.23717\n",
            "hsv_h: 0.015\n",
            "hsv_s: 0.7\n",
            "hsv_v: 0.31447\n",
            "degrees: 0.0\n",
            "translate: 0.1\n",
            "scale: 0.5\n",
            "shear: 0.0\n",
            "perspective: 0.0\n",
            "flipud: 0.0\n",
            "fliplr: 0.46287\n",
            "mosaic: 1.0\n",
            "mixup: 0.0\n",
            "copy_paste: 0.0\n",
            "\n",
            "\u001b[34m\u001b[1mTuner: \u001b[0mStarting iteration 3/10 with hyperparameters: {'lr0': 0.0083, 'lrf': 0.0096, 'momentum': 0.88383, 'weight_decay': 0.00042, 'warmup_epochs': 2.71265, 'warmup_momentum': 0.8406, 'box': 6.33728, 'cls': 0.57023, 'dfl': 1.18583, 'hsv_h': 0.01449, 'hsv_s': 0.7135, 'hsv_v': 0.32166, 'degrees': 0.0, 'translate': 0.10766, 'scale': 0.54697, 'shear': 0.0, 'perspective': 0.0, 'flipud': 0.0, 'fliplr': 0.46287, 'mosaic': 0.98116, 'mixup': 0.0, 'copy_paste': 0.0}\n",
            "Saved runs/detect/tune/tune_scatter_plots.png\n",
            "Saved runs/detect/tune/tune_fitness.png\n",
            "\n",
            "\u001b[34m\u001b[1mTuner: \u001b[0m3/10 iterations complete ✅ (539.13s)\n",
            "\u001b[34m\u001b[1mTuner: \u001b[0mResults saved to \u001b[1mruns/detect/tune\u001b[0m\n",
            "\u001b[34m\u001b[1mTuner: \u001b[0mBest fitness=0.2767 observed at iteration 3\n",
            "\u001b[34m\u001b[1mTuner: \u001b[0mBest fitness metrics are {'metrics/precision(B)': 0.58968, 'metrics/recall(B)': 0.56479, 'metrics/mAP50(B)': 0.54368, 'metrics/mAP50-95(B)': 0.24703, 'val/box_loss': 1.84183, 'val/cls_loss': 1.93004, 'val/dfl_loss': 2.17261, 'fitness': 0.2767}\n",
            "\u001b[34m\u001b[1mTuner: \u001b[0mBest fitness model is runs/detect/train3\n",
            "\u001b[34m\u001b[1mTuner: \u001b[0mBest fitness hyperparameters are printed below.\n",
            "\n",
            "Printing '\u001b[1m\u001b[30mruns/detect/tune/best_hyperparameters.yaml\u001b[0m'\n",
            "\n",
            "lr0: 0.0083\n",
            "lrf: 0.0096\n",
            "momentum: 0.88383\n",
            "weight_decay: 0.00042\n",
            "warmup_epochs: 2.71265\n",
            "warmup_momentum: 0.8406\n",
            "box: 6.33728\n",
            "cls: 0.57023\n",
            "dfl: 1.18583\n",
            "hsv_h: 0.01449\n",
            "hsv_s: 0.7135\n",
            "hsv_v: 0.32166\n",
            "degrees: 0.0\n",
            "translate: 0.10766\n",
            "scale: 0.54697\n",
            "shear: 0.0\n",
            "perspective: 0.0\n",
            "flipud: 0.0\n",
            "fliplr: 0.46287\n",
            "mosaic: 0.98116\n",
            "mixup: 0.0\n",
            "copy_paste: 0.0\n",
            "\n",
            "\u001b[34m\u001b[1mTuner: \u001b[0mStarting iteration 4/10 with hyperparameters: {'lr0': 0.00931, 'lrf': 0.00996, 'momentum': 0.90089, 'weight_decay': 0.0004, 'warmup_epochs': 2.51887, 'warmup_momentum': 0.76536, 'box': 6.33728, 'cls': 0.58059, 'dfl': 1.23544, 'hsv_h': 0.01563, 'hsv_s': 0.67863, 'hsv_v': 0.32451, 'degrees': 0.0, 'translate': 0.10351, 'scale': 0.51469, 'shear': 0.0, 'perspective': 0.0, 'flipud': 0.0, 'fliplr': 0.45849, 'mosaic': 1.0, 'mixup': 0.0, 'copy_paste': 0.0}\n",
            "Saved runs/detect/tune/tune_scatter_plots.png\n",
            "Saved runs/detect/tune/tune_fitness.png\n",
            "\n",
            "\u001b[34m\u001b[1mTuner: \u001b[0m4/10 iterations complete ✅ (714.11s)\n",
            "\u001b[34m\u001b[1mTuner: \u001b[0mResults saved to \u001b[1mruns/detect/tune\u001b[0m\n",
            "\u001b[34m\u001b[1mTuner: \u001b[0mBest fitness=0.2767 observed at iteration 3\n",
            "\u001b[34m\u001b[1mTuner: \u001b[0mBest fitness metrics are {'metrics/precision(B)': 0.58968, 'metrics/recall(B)': 0.56479, 'metrics/mAP50(B)': 0.54368, 'metrics/mAP50-95(B)': 0.24703, 'val/box_loss': 1.84183, 'val/cls_loss': 1.93004, 'val/dfl_loss': 2.17261, 'fitness': 0.2767}\n",
            "\u001b[34m\u001b[1mTuner: \u001b[0mBest fitness model is runs/detect/train3\n",
            "\u001b[34m\u001b[1mTuner: \u001b[0mBest fitness hyperparameters are printed below.\n",
            "\n",
            "Printing '\u001b[1m\u001b[30mruns/detect/tune/best_hyperparameters.yaml\u001b[0m'\n",
            "\n",
            "lr0: 0.0083\n",
            "lrf: 0.0096\n",
            "momentum: 0.88383\n",
            "weight_decay: 0.00042\n",
            "warmup_epochs: 2.71265\n",
            "warmup_momentum: 0.8406\n",
            "box: 6.33728\n",
            "cls: 0.57023\n",
            "dfl: 1.18583\n",
            "hsv_h: 0.01449\n",
            "hsv_s: 0.7135\n",
            "hsv_v: 0.32166\n",
            "degrees: 0.0\n",
            "translate: 0.10766\n",
            "scale: 0.54697\n",
            "shear: 0.0\n",
            "perspective: 0.0\n",
            "flipud: 0.0\n",
            "fliplr: 0.46287\n",
            "mosaic: 0.98116\n",
            "mixup: 0.0\n",
            "copy_paste: 0.0\n",
            "\n",
            "\u001b[34m\u001b[1mTuner: \u001b[0mStarting iteration 5/10 with hyperparameters: {'lr0': 0.0083, 'lrf': 0.01332, 'momentum': 0.82825, 'weight_decay': 0.00035, 'warmup_epochs': 2.71265, 'warmup_momentum': 0.8406, 'box': 6.20539, 'cls': 0.42483, 'dfl': 1.18583, 'hsv_h': 0.01397, 'hsv_s': 0.9, 'hsv_v': 0.29005, 'degrees': 0.0, 'translate': 0.09502, 'scale': 0.69217, 'shear': 0.0, 'perspective': 0.0, 'flipud': 0.0, 'fliplr': 0.38796, 'mosaic': 0.98116, 'mixup': 0.0, 'copy_paste': 0.0}\n",
            "Saved runs/detect/tune/tune_scatter_plots.png\n",
            "Saved runs/detect/tune/tune_fitness.png\n",
            "\n",
            "\u001b[34m\u001b[1mTuner: \u001b[0m5/10 iterations complete ✅ (886.97s)\n",
            "\u001b[34m\u001b[1mTuner: \u001b[0mResults saved to \u001b[1mruns/detect/tune\u001b[0m\n",
            "\u001b[34m\u001b[1mTuner: \u001b[0mBest fitness=0.30269 observed at iteration 5\n",
            "\u001b[34m\u001b[1mTuner: \u001b[0mBest fitness metrics are {'metrics/precision(B)': 0.78171, 'metrics/recall(B)': 0.5, 'metrics/mAP50(B)': 0.59134, 'metrics/mAP50-95(B)': 0.27062, 'val/box_loss': 1.72724, 'val/cls_loss': 1.49193, 'val/dfl_loss': 2.09641, 'fitness': 0.30269}\n",
            "\u001b[34m\u001b[1mTuner: \u001b[0mBest fitness model is runs/detect/train5\n",
            "\u001b[34m\u001b[1mTuner: \u001b[0mBest fitness hyperparameters are printed below.\n",
            "\n",
            "Printing '\u001b[1m\u001b[30mruns/detect/tune/best_hyperparameters.yaml\u001b[0m'\n",
            "\n",
            "lr0: 0.0083\n",
            "lrf: 0.01332\n",
            "momentum: 0.82825\n",
            "weight_decay: 0.00035\n",
            "warmup_epochs: 2.71265\n",
            "warmup_momentum: 0.8406\n",
            "box: 6.20539\n",
            "cls: 0.42483\n",
            "dfl: 1.18583\n",
            "hsv_h: 0.01397\n",
            "hsv_s: 0.9\n",
            "hsv_v: 0.29005\n",
            "degrees: 0.0\n",
            "translate: 0.09502\n",
            "scale: 0.69217\n",
            "shear: 0.0\n",
            "perspective: 0.0\n",
            "flipud: 0.0\n",
            "fliplr: 0.38796\n",
            "mosaic: 0.98116\n",
            "mixup: 0.0\n",
            "copy_paste: 0.0\n",
            "\n",
            "\u001b[34m\u001b[1mTuner: \u001b[0mStarting iteration 6/10 with hyperparameters: {'lr0': 0.0083, 'lrf': 0.01344, 'momentum': 0.83565, 'weight_decay': 0.00035, 'warmup_epochs': 2.91518, 'warmup_momentum': 0.82808, 'box': 6.17267, 'cls': 0.42483, 'dfl': 1.22648, 'hsv_h': 0.015, 'hsv_s': 0.9, 'hsv_v': 0.27624, 'degrees': 0.0, 'translate': 0.09663, 'scale': 0.69217, 'shear': 0.0, 'perspective': 0.0, 'flipud': 0.0, 'fliplr': 0.38796, 'mosaic': 1.0, 'mixup': 0.0, 'copy_paste': 0.0}\n",
            "Saved runs/detect/tune/tune_scatter_plots.png\n",
            "Saved runs/detect/tune/tune_fitness.png\n",
            "\n",
            "\u001b[34m\u001b[1mTuner: \u001b[0m6/10 iterations complete ✅ (1061.25s)\n",
            "\u001b[34m\u001b[1mTuner: \u001b[0mResults saved to \u001b[1mruns/detect/tune\u001b[0m\n",
            "\u001b[34m\u001b[1mTuner: \u001b[0mBest fitness=0.30269 observed at iteration 5\n",
            "\u001b[34m\u001b[1mTuner: \u001b[0mBest fitness metrics are {'metrics/precision(B)': 0.78171, 'metrics/recall(B)': 0.5, 'metrics/mAP50(B)': 0.59134, 'metrics/mAP50-95(B)': 0.27062, 'val/box_loss': 1.72724, 'val/cls_loss': 1.49193, 'val/dfl_loss': 2.09641, 'fitness': 0.30269}\n",
            "\u001b[34m\u001b[1mTuner: \u001b[0mBest fitness model is runs/detect/train5\n",
            "\u001b[34m\u001b[1mTuner: \u001b[0mBest fitness hyperparameters are printed below.\n",
            "\n",
            "Printing '\u001b[1m\u001b[30mruns/detect/tune/best_hyperparameters.yaml\u001b[0m'\n",
            "\n",
            "lr0: 0.0083\n",
            "lrf: 0.01332\n",
            "momentum: 0.82825\n",
            "weight_decay: 0.00035\n",
            "warmup_epochs: 2.71265\n",
            "warmup_momentum: 0.8406\n",
            "box: 6.20539\n",
            "cls: 0.42483\n",
            "dfl: 1.18583\n",
            "hsv_h: 0.01397\n",
            "hsv_s: 0.9\n",
            "hsv_v: 0.29005\n",
            "degrees: 0.0\n",
            "translate: 0.09502\n",
            "scale: 0.69217\n",
            "shear: 0.0\n",
            "perspective: 0.0\n",
            "flipud: 0.0\n",
            "fliplr: 0.38796\n",
            "mosaic: 0.98116\n",
            "mixup: 0.0\n",
            "copy_paste: 0.0\n",
            "\n",
            "\u001b[34m\u001b[1mTuner: \u001b[0mStarting iteration 7/10 with hyperparameters: {'lr0': 0.0079, 'lrf': 0.01479, 'momentum': 0.81898, 'weight_decay': 0.00035, 'warmup_epochs': 2.84357, 'warmup_momentum': 0.83941, 'box': 5.79818, 'cls': 0.43157, 'dfl': 1.21031, 'hsv_h': 0.01397, 'hsv_s': 0.86174, 'hsv_v': 0.2886, 'degrees': 0.0, 'translate': 0.08523, 'scale': 0.67289, 'shear': 0.0, 'perspective': 0.0, 'flipud': 0.0, 'fliplr': 0.36289, 'mosaic': 1.0, 'mixup': 0.0, 'copy_paste': 0.0}\n",
            "Saved runs/detect/tune/tune_scatter_plots.png\n",
            "Saved runs/detect/tune/tune_fitness.png\n",
            "\n",
            "\u001b[34m\u001b[1mTuner: \u001b[0m7/10 iterations complete ✅ (1232.48s)\n",
            "\u001b[34m\u001b[1mTuner: \u001b[0mResults saved to \u001b[1mruns/detect/tune\u001b[0m\n",
            "\u001b[34m\u001b[1mTuner: \u001b[0mBest fitness=0.30269 observed at iteration 5\n",
            "\u001b[34m\u001b[1mTuner: \u001b[0mBest fitness metrics are {'metrics/precision(B)': 0.78171, 'metrics/recall(B)': 0.5, 'metrics/mAP50(B)': 0.59134, 'metrics/mAP50-95(B)': 0.27062, 'val/box_loss': 1.72724, 'val/cls_loss': 1.49193, 'val/dfl_loss': 2.09641, 'fitness': 0.30269}\n",
            "\u001b[34m\u001b[1mTuner: \u001b[0mBest fitness model is runs/detect/train5\n",
            "\u001b[34m\u001b[1mTuner: \u001b[0mBest fitness hyperparameters are printed below.\n",
            "\n",
            "Printing '\u001b[1m\u001b[30mruns/detect/tune/best_hyperparameters.yaml\u001b[0m'\n",
            "\n",
            "lr0: 0.0083\n",
            "lrf: 0.01332\n",
            "momentum: 0.82825\n",
            "weight_decay: 0.00035\n",
            "warmup_epochs: 2.71265\n",
            "warmup_momentum: 0.8406\n",
            "box: 6.20539\n",
            "cls: 0.42483\n",
            "dfl: 1.18583\n",
            "hsv_h: 0.01397\n",
            "hsv_s: 0.9\n",
            "hsv_v: 0.29005\n",
            "degrees: 0.0\n",
            "translate: 0.09502\n",
            "scale: 0.69217\n",
            "shear: 0.0\n",
            "perspective: 0.0\n",
            "flipud: 0.0\n",
            "fliplr: 0.38796\n",
            "mosaic: 0.98116\n",
            "mixup: 0.0\n",
            "copy_paste: 0.0\n",
            "\n",
            "\u001b[34m\u001b[1mTuner: \u001b[0mStarting iteration 8/10 with hyperparameters: {'lr0': 0.00743, 'lrf': 0.01463, 'momentum': 0.80685, 'weight_decay': 0.00027, 'warmup_epochs': 2.84357, 'warmup_momentum': 0.79466, 'box': 7.84027, 'cls': 0.4977, 'dfl': 1.02468, 'hsv_h': 0.01397, 'hsv_s': 0.87916, 'hsv_v': 0.2886, 'degrees': 0.0, 'translate': 0.09079, 'scale': 0.67289, 'shear': 0.0, 'perspective': 0.0, 'flipud': 0.0, 'fliplr': 0.35077, 'mosaic': 0.81268, 'mixup': 0.0, 'copy_paste': 0.0}\n",
            "Saved runs/detect/tune/tune_scatter_plots.png\n",
            "Saved runs/detect/tune/tune_fitness.png\n",
            "\n",
            "\u001b[34m\u001b[1mTuner: \u001b[0m8/10 iterations complete ✅ (1401.70s)\n",
            "\u001b[34m\u001b[1mTuner: \u001b[0mResults saved to \u001b[1mruns/detect/tune\u001b[0m\n",
            "\u001b[34m\u001b[1mTuner: \u001b[0mBest fitness=0.30269 observed at iteration 5\n",
            "\u001b[34m\u001b[1mTuner: \u001b[0mBest fitness metrics are {'metrics/precision(B)': 0.78171, 'metrics/recall(B)': 0.5, 'metrics/mAP50(B)': 0.59134, 'metrics/mAP50-95(B)': 0.27062, 'val/box_loss': 1.72724, 'val/cls_loss': 1.49193, 'val/dfl_loss': 2.09641, 'fitness': 0.30269}\n",
            "\u001b[34m\u001b[1mTuner: \u001b[0mBest fitness model is runs/detect/train5\n",
            "\u001b[34m\u001b[1mTuner: \u001b[0mBest fitness hyperparameters are printed below.\n",
            "\n",
            "Printing '\u001b[1m\u001b[30mruns/detect/tune/best_hyperparameters.yaml\u001b[0m'\n",
            "\n",
            "lr0: 0.0083\n",
            "lrf: 0.01332\n",
            "momentum: 0.82825\n",
            "weight_decay: 0.00035\n",
            "warmup_epochs: 2.71265\n",
            "warmup_momentum: 0.8406\n",
            "box: 6.20539\n",
            "cls: 0.42483\n",
            "dfl: 1.18583\n",
            "hsv_h: 0.01397\n",
            "hsv_s: 0.9\n",
            "hsv_v: 0.29005\n",
            "degrees: 0.0\n",
            "translate: 0.09502\n",
            "scale: 0.69217\n",
            "shear: 0.0\n",
            "perspective: 0.0\n",
            "flipud: 0.0\n",
            "fliplr: 0.38796\n",
            "mosaic: 0.98116\n",
            "mixup: 0.0\n",
            "copy_paste: 0.0\n",
            "\n",
            "\u001b[34m\u001b[1mTuner: \u001b[0mStarting iteration 9/10 with hyperparameters: {'lr0': 0.0083, 'lrf': 0.00849, 'momentum': 0.88383, 'weight_decay': 0.0004, 'warmup_epochs': 2.88688, 'warmup_momentum': 0.81672, 'box': 4.96921, 'cls': 0.58268, 'dfl': 1.15145, 'hsv_h': 0.01449, 'hsv_s': 0.7135, 'hsv_v': 0.26818, 'degrees': 0.0, 'translate': 0.12302, 'scale': 0.59342, 'shear': 0.0, 'perspective': 0.0, 'flipud': 0.0, 'fliplr': 0.42027, 'mosaic': 0.61352, 'mixup': 0.0, 'copy_paste': 0.0}\n",
            "Saved runs/detect/tune/tune_scatter_plots.png\n",
            "Saved runs/detect/tune/tune_fitness.png\n",
            "\n",
            "\u001b[34m\u001b[1mTuner: \u001b[0m9/10 iterations complete ✅ (1571.62s)\n",
            "\u001b[34m\u001b[1mTuner: \u001b[0mResults saved to \u001b[1mruns/detect/tune\u001b[0m\n",
            "\u001b[34m\u001b[1mTuner: \u001b[0mBest fitness=0.30269 observed at iteration 5\n",
            "\u001b[34m\u001b[1mTuner: \u001b[0mBest fitness metrics are {'metrics/precision(B)': 0.78171, 'metrics/recall(B)': 0.5, 'metrics/mAP50(B)': 0.59134, 'metrics/mAP50-95(B)': 0.27062, 'val/box_loss': 1.72724, 'val/cls_loss': 1.49193, 'val/dfl_loss': 2.09641, 'fitness': 0.30269}\n",
            "\u001b[34m\u001b[1mTuner: \u001b[0mBest fitness model is runs/detect/train5\n",
            "\u001b[34m\u001b[1mTuner: \u001b[0mBest fitness hyperparameters are printed below.\n",
            "\n",
            "Printing '\u001b[1m\u001b[30mruns/detect/tune/best_hyperparameters.yaml\u001b[0m'\n",
            "\n",
            "lr0: 0.0083\n",
            "lrf: 0.01332\n",
            "momentum: 0.82825\n",
            "weight_decay: 0.00035\n",
            "warmup_epochs: 2.71265\n",
            "warmup_momentum: 0.8406\n",
            "box: 6.20539\n",
            "cls: 0.42483\n",
            "dfl: 1.18583\n",
            "hsv_h: 0.01397\n",
            "hsv_s: 0.9\n",
            "hsv_v: 0.29005\n",
            "degrees: 0.0\n",
            "translate: 0.09502\n",
            "scale: 0.69217\n",
            "shear: 0.0\n",
            "perspective: 0.0\n",
            "flipud: 0.0\n",
            "fliplr: 0.38796\n",
            "mosaic: 0.98116\n",
            "mixup: 0.0\n",
            "copy_paste: 0.0\n",
            "\n",
            "\u001b[34m\u001b[1mTuner: \u001b[0mStarting iteration 10/10 with hyperparameters: {'lr0': 0.00892, 'lrf': 0.01549, 'momentum': 0.80218, 'weight_decay': 0.00032, 'warmup_epochs': 2.4173, 'warmup_momentum': 0.8406, 'box': 5.95252, 'cls': 0.38396, 'dfl': 1.18583, 'hsv_h': 0.01537, 'hsv_s': 0.70112, 'hsv_v': 0.31736, 'degrees': 0.0, 'translate': 0.08327, 'scale': 0.69217, 'shear': 0.0, 'perspective': 0.0, 'flipud': 0.0, 'fliplr': 0.37532, 'mosaic': 0.92648, 'mixup': 0.0, 'copy_paste': 0.0}\n",
            "Saved runs/detect/tune/tune_scatter_plots.png\n",
            "Saved runs/detect/tune/tune_fitness.png\n",
            "\n",
            "\u001b[34m\u001b[1mTuner: \u001b[0m10/10 iterations complete ✅ (1739.12s)\n",
            "\u001b[34m\u001b[1mTuner: \u001b[0mResults saved to \u001b[1mruns/detect/tune\u001b[0m\n",
            "\u001b[34m\u001b[1mTuner: \u001b[0mBest fitness=0.30269 observed at iteration 5\n",
            "\u001b[34m\u001b[1mTuner: \u001b[0mBest fitness metrics are {'metrics/precision(B)': 0.78171, 'metrics/recall(B)': 0.5, 'metrics/mAP50(B)': 0.59134, 'metrics/mAP50-95(B)': 0.27062, 'val/box_loss': 1.72724, 'val/cls_loss': 1.49193, 'val/dfl_loss': 2.09641, 'fitness': 0.30269}\n",
            "\u001b[34m\u001b[1mTuner: \u001b[0mBest fitness model is runs/detect/train5\n",
            "\u001b[34m\u001b[1mTuner: \u001b[0mBest fitness hyperparameters are printed below.\n",
            "\n",
            "Printing '\u001b[1m\u001b[30mruns/detect/tune/best_hyperparameters.yaml\u001b[0m'\n",
            "\n",
            "lr0: 0.0083\n",
            "lrf: 0.01332\n",
            "momentum: 0.82825\n",
            "weight_decay: 0.00035\n",
            "warmup_epochs: 2.71265\n",
            "warmup_momentum: 0.8406\n",
            "box: 6.20539\n",
            "cls: 0.42483\n",
            "dfl: 1.18583\n",
            "hsv_h: 0.01397\n",
            "hsv_s: 0.9\n",
            "hsv_v: 0.29005\n",
            "degrees: 0.0\n",
            "translate: 0.09502\n",
            "scale: 0.69217\n",
            "shear: 0.0\n",
            "perspective: 0.0\n",
            "flipud: 0.0\n",
            "fliplr: 0.38796\n",
            "mosaic: 0.98116\n",
            "mixup: 0.0\n",
            "copy_paste: 0.0\n",
            "\n"
          ]
        }
      ]
    },
    {
      "cell_type": "markdown",
      "source": [
        "From the results above, we can see that the best fitness (0.30269) was observed during the 5th iteration.\n",
        "\n",
        "We can also see the optimal parameters.\n",
        "\n",
        "**Best fitness metrics:**\n",
        "\n",
        "{'metrics/precision(B)': 0.78171, 'metrics/recall(B)': 0.5, 'metrics/mAP50(B)': 0.59134, 'metrics/mAP50-95(B)': 0.27062, 'val/box_loss': 1.72724, 'val/cls_loss': 1.49193, 'val/dfl_loss': 2.09641, 'fitness': 0.30269}\n",
        "\n"
      ],
      "metadata": {
        "id": "DW8pQz0B0cYX"
      }
    },
    {
      "cell_type": "markdown",
      "source": [
        "After we complete the hyperparameter tuning, we get several files:\n",
        "- **best_hyperparameters.yaml** --> A YAML file that contains the optimal hyperparameters that we can later use to initialize future trainings.\n",
        "- **best_fitness.png** --> A plot displaying fitness (typically a performance metric like AP50) against the number of iterations.\n",
        "- **tune_results.csv** --> A CSV file containing the results (metrics) of each iteration.\n",
        "- **tune_scatter_plots.png** --> A file that contains scatter plots generated from tune_results.csv, which can help visualize the relationships between the different hyperparameters and performance metrics.\n",
        "- **weights/** --> A directory thatcontains the saved PyTorch models for the last and the best iterations during the hyperparameter tuning proces**\n"
      ],
      "metadata": {
        "id": "BOtWl4trzTly"
      }
    },
    {
      "cell_type": "code",
      "source": [],
      "metadata": {
        "id": "2s9boZzsBSya"
      },
      "execution_count": null,
      "outputs": []
    }
  ]
}